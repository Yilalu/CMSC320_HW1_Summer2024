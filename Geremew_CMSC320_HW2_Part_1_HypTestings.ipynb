{
  "nbformat": 4,
  "nbformat_minor": 0,
  "metadata": {
    "colab": {
      "provenance": [],
      "include_colab_link": true
    },
    "kernelspec": {
      "name": "python3",
      "display_name": "Python 3"
    },
    "language_info": {
      "name": "python"
    }
  },
  "cells": [
    {
      "cell_type": "markdown",
      "metadata": {
        "id": "view-in-github",
        "colab_type": "text"
      },
      "source": [
        "<a href=\"https://colab.research.google.com/github/Yilalu/CMSC320_HW1_Summer2024/blob/main/Geremew_CMSC320_HW2_Part_1_HypTestings.ipynb\" target=\"_parent\"><img src=\"https://colab.research.google.com/assets/colab-badge.svg\" alt=\"Open In Colab\"/></a>"
      ]
    },
    {
      "cell_type": "markdown",
      "source": [
        "# **Homework 2 - Part 1: Hypothesis Testing**\n",
        "# Due Date: June 18th, 2024, by 11:59 PM\n",
        "### *Late Due Date with a 5% LATE PENALTY: June 19th, 2024, by 11:59 PM*\n",
        "\n",
        "### **DO NOT REMOVE ANY PART OF ANY OF THE QUESTIONS OR YOU LOSE CREDIT**\n",
        "### **REMEMBER TO SHOW ALL CODE OUTPUT (NO CREDIT OTHERWISE)**"
      ],
      "metadata": {
        "id": "E8O0YGnV4Cbp"
      }
    },
    {
      "cell_type": "markdown",
      "source": [
        "##Q1) (14 POINTS) Hypothesis Tests and P_value"
      ],
      "metadata": {
        "id": "lr1gnMPH4K95"
      }
    },
    {
      "cell_type": "markdown",
      "source": [
        "**TASK:** For the next 5 problems, please describe when you would use each hypothesis test"
      ],
      "metadata": {
        "id": "fp9tnOacNuMX"
      }
    },
    {
      "cell_type": "markdown",
      "source": [
        "\n",
        "\n",
        "*   Chi-Squared Test\n",
        "*   Z test\n",
        "*   T test\n",
        "*   Mann-Whitney U Test\n",
        "*   Anova\n",
        "\n",
        "\n"
      ],
      "metadata": {
        "id": "gMYJ8tll4cTM"
      }
    },
    {
      "cell_type": "markdown",
      "source": [
        "**TASK 1.1** (2 POINTS): **Chi-Squared Test**\n",
        "\n"
      ],
      "metadata": {
        "id": "Pkn-uG4cETC9"
      }
    },
    {
      "cell_type": "markdown",
      "source": [
        "The Chi-Squared Test is used when we want to test the relationship between two categorical variables. It's often used for testing the independence of two variables."
      ],
      "metadata": {
        "id": "fzogZeFA56eV"
      }
    },
    {
      "cell_type": "markdown",
      "source": [
        "**TASK 1.2**   (2 POINTS): **Z-Test**\n",
        "\n"
      ],
      "metadata": {
        "id": "Lxfrp1xuEYzi"
      }
    },
    {
      "cell_type": "markdown",
      "source": [
        "It's used for testing the mean of a single sample against a known mean or for comparing the means of two samples.\n",
        "It is used when we have a large sample size such that for n > 30 and we know the population standard deviation (σ) or can make a reasonable assumption about it."
      ],
      "metadata": {
        "id": "QzMJYO2A58WT"
      }
    },
    {
      "cell_type": "markdown",
      "source": [
        "**TASK 1.3**   (2 POINTS): **T-Test**\n",
        "\n"
      ],
      "metadata": {
        "id": "NbsWX4fxEZBg"
      }
    },
    {
      "cell_type": "markdown",
      "source": [
        "We can use the T-Test for continuous data obtained from a random sample that follows a normal distribution.\n",
        "It is used when we have a smaller sample size such that for n < 30 or when we don't know the population standard deviation (σ) and must estimate it from the sample\n"
      ],
      "metadata": {
        "id": "T4hS_DCW6A5e"
      }
    },
    {
      "cell_type": "markdown",
      "source": [
        "**TASK 1.4**   (2 POINTS): **Man-Whitney U Test**\n",
        "\n"
      ],
      "metadata": {
        "id": "YegV9lSFEZO6"
      }
    },
    {
      "cell_type": "markdown",
      "source": [],
      "metadata": {
        "id": "2e5jLMA16J7y"
      }
    },
    {
      "cell_type": "markdown",
      "source": [
        "It is used to compare two independent groups when the data do not meet the assumptions of normality required for a t-test."
      ],
      "metadata": {
        "id": "rUIFKsyT6F0K"
      }
    },
    {
      "cell_type": "markdown",
      "source": [
        "**TASK 1.5**   (2 POINTS): **ANOVA Test**\n",
        "\n"
      ],
      "metadata": {
        "id": "mpPZpmtMEZfS"
      }
    },
    {
      "cell_type": "markdown",
      "source": [
        "ANOVA test is used when we want to compare the means of more than two groups.\n",
        "\n",
        "We use a this test:\n",
        "\n",
        "Null hypothesis: There is no difference between any of the groups\n",
        "\n",
        "Alternative hypothesis: There is a difference between at least one of the groups"
      ],
      "metadata": {
        "id": "1Wlk5C8f6Jg6"
      }
    },
    {
      "cell_type": "markdown",
      "source": [
        "**TASK 1.6** (4 POINTS):\n",
        "Explain the statistical interpretation of a p_value. Be sure to **explain beyond just rejecting or failing to reject the null hypothesis**. You also need to **think** about what is **P-Value**, what is the **true statistical meaning of P-Value**."
      ],
      "metadata": {
        "id": "jdYe6uWWKPtd"
      }
    },
    {
      "cell_type": "markdown",
      "source": [
        "The p-value is the probability of obtaining test results at least as extreme as the results actually observed, under the assumption that the null hypothesis is correct.\n",
        "\n",
        "Smaller p-values indicate stronger evidence against the null hypothesis.\n",
        "Compare the test statistic with the critical region using p-value:\n",
        "\n",
        "If p-value ≤ α, reject the null hypothesis.\n",
        "\n",
        "If p-value > α, fail to reject the null hypothesis.\n",
        "\n",
        "A low p-value suggests that the observed data is unlikely under the null hypothesis, providing stronger evidence against it. We commonly use a threshold, often 0.05 or 0.01, to determine statistical significance. If the p-value is below those threshold, the null hypothesis is rejected, indicating that the results are significant.\n",
        "\n"
      ],
      "metadata": {
        "id": "9zhdjJyjK1D7"
      }
    },
    {
      "cell_type": "markdown",
      "source": [
        "##*Q2)*  (2 POINTS) Create a dataframe and Display"
      ],
      "metadata": {
        "id": "va2vA-in5dWy"
      }
    },
    {
      "cell_type": "code",
      "source": [
        "import pandas as pd\n",
        "import matplotlib.pyplot as plt\n",
        "\n",
        "# Addtional imports for analysis\n",
        "from scipy.stats import chi2_contingency\n",
        "from scipy.stats import f_oneway"
      ],
      "metadata": {
        "id": "Ijr5bfGL5_l1"
      },
      "execution_count": null,
      "outputs": []
    },
    {
      "cell_type": "markdown",
      "source": [
        "### We are creating a dataframe named \"df\", read the \"theft_data.csv\" file into it and display the dataframe."
      ],
      "metadata": {
        "id": "Pi7f_akf6FJb"
      }
    },
    {
      "cell_type": "code",
      "source": [
        "# ANSWER STARTING HERE\n",
        "df = pd.read_csv(\"theft_data.csv\")\n",
        "df"
      ],
      "metadata": {
        "id": "XtB3BYv86Ma8",
        "colab": {
          "base_uri": "https://localhost:8080/",
          "height": 424
        },
        "outputId": "a03845e4-3ea8-4aad-a58c-8cfd5d95fdca"
      },
      "execution_count": null,
      "outputs": [
        {
          "output_type": "execute_result",
          "data": {
            "text/plain": [
              "    Item ID;Category;Location;Cost of Item;Visibility;Time of Theft;Stolen;Recovery Status\n",
              "0             1;Jewelry;Mall D;1492;Low;Morning;No;N/A                                    \n",
              "1    2;Electronics;Mall C;57;Medium;Night;Yes;Recov...                                    \n",
              "2           3;Clothing;Mall A;342;High;Midnight;No;N/A                                    \n",
              "3    4;Personal Accessories;Mall A;330;Medium;After...                                    \n",
              "4    5;Antiques;Mall D;7496;Medium;Midnight;Yes;Rec...                                    \n",
              "..                                                 ...                                    \n",
              "295  296;Jewelry;Mall B;113;High;Morning;Yes;Recovered                                    \n",
              "296      297;Jewelry;Mall A;792;Medium;Midnight;No;N/A                                    \n",
              "297         298;Clothing;Mall A;674;Low;Evening;No;N/A                                    \n",
              "298  299;Clothing;Mall A;990;High;Midnight;Yes;Missing                                    \n",
              "299  300;Antiques;Mall D;571;Medium;Evening;Yes;Rec...                                    \n",
              "\n",
              "[300 rows x 1 columns]"
            ],
            "text/html": [
              "\n",
              "  <div id=\"df-f5c365a8-231e-4b9d-99b2-7d4def438b2d\" class=\"colab-df-container\">\n",
              "    <div>\n",
              "<style scoped>\n",
              "    .dataframe tbody tr th:only-of-type {\n",
              "        vertical-align: middle;\n",
              "    }\n",
              "\n",
              "    .dataframe tbody tr th {\n",
              "        vertical-align: top;\n",
              "    }\n",
              "\n",
              "    .dataframe thead th {\n",
              "        text-align: right;\n",
              "    }\n",
              "</style>\n",
              "<table border=\"1\" class=\"dataframe\">\n",
              "  <thead>\n",
              "    <tr style=\"text-align: right;\">\n",
              "      <th></th>\n",
              "      <th>Item ID;Category;Location;Cost of Item;Visibility;Time of Theft;Stolen;Recovery Status</th>\n",
              "    </tr>\n",
              "  </thead>\n",
              "  <tbody>\n",
              "    <tr>\n",
              "      <th>0</th>\n",
              "      <td>1;Jewelry;Mall D;1492;Low;Morning;No;N/A</td>\n",
              "    </tr>\n",
              "    <tr>\n",
              "      <th>1</th>\n",
              "      <td>2;Electronics;Mall C;57;Medium;Night;Yes;Recov...</td>\n",
              "    </tr>\n",
              "    <tr>\n",
              "      <th>2</th>\n",
              "      <td>3;Clothing;Mall A;342;High;Midnight;No;N/A</td>\n",
              "    </tr>\n",
              "    <tr>\n",
              "      <th>3</th>\n",
              "      <td>4;Personal Accessories;Mall A;330;Medium;After...</td>\n",
              "    </tr>\n",
              "    <tr>\n",
              "      <th>4</th>\n",
              "      <td>5;Antiques;Mall D;7496;Medium;Midnight;Yes;Rec...</td>\n",
              "    </tr>\n",
              "    <tr>\n",
              "      <th>...</th>\n",
              "      <td>...</td>\n",
              "    </tr>\n",
              "    <tr>\n",
              "      <th>295</th>\n",
              "      <td>296;Jewelry;Mall B;113;High;Morning;Yes;Recovered</td>\n",
              "    </tr>\n",
              "    <tr>\n",
              "      <th>296</th>\n",
              "      <td>297;Jewelry;Mall A;792;Medium;Midnight;No;N/A</td>\n",
              "    </tr>\n",
              "    <tr>\n",
              "      <th>297</th>\n",
              "      <td>298;Clothing;Mall A;674;Low;Evening;No;N/A</td>\n",
              "    </tr>\n",
              "    <tr>\n",
              "      <th>298</th>\n",
              "      <td>299;Clothing;Mall A;990;High;Midnight;Yes;Missing</td>\n",
              "    </tr>\n",
              "    <tr>\n",
              "      <th>299</th>\n",
              "      <td>300;Antiques;Mall D;571;Medium;Evening;Yes;Rec...</td>\n",
              "    </tr>\n",
              "  </tbody>\n",
              "</table>\n",
              "<p>300 rows × 1 columns</p>\n",
              "</div>\n",
              "    <div class=\"colab-df-buttons\">\n",
              "\n",
              "  <div class=\"colab-df-container\">\n",
              "    <button class=\"colab-df-convert\" onclick=\"convertToInteractive('df-f5c365a8-231e-4b9d-99b2-7d4def438b2d')\"\n",
              "            title=\"Convert this dataframe to an interactive table.\"\n",
              "            style=\"display:none;\">\n",
              "\n",
              "  <svg xmlns=\"http://www.w3.org/2000/svg\" height=\"24px\" viewBox=\"0 -960 960 960\">\n",
              "    <path d=\"M120-120v-720h720v720H120Zm60-500h600v-160H180v160Zm220 220h160v-160H400v160Zm0 220h160v-160H400v160ZM180-400h160v-160H180v160Zm440 0h160v-160H620v160ZM180-180h160v-160H180v160Zm440 0h160v-160H620v160Z\"/>\n",
              "  </svg>\n",
              "    </button>\n",
              "\n",
              "  <style>\n",
              "    .colab-df-container {\n",
              "      display:flex;\n",
              "      gap: 12px;\n",
              "    }\n",
              "\n",
              "    .colab-df-convert {\n",
              "      background-color: #E8F0FE;\n",
              "      border: none;\n",
              "      border-radius: 50%;\n",
              "      cursor: pointer;\n",
              "      display: none;\n",
              "      fill: #1967D2;\n",
              "      height: 32px;\n",
              "      padding: 0 0 0 0;\n",
              "      width: 32px;\n",
              "    }\n",
              "\n",
              "    .colab-df-convert:hover {\n",
              "      background-color: #E2EBFA;\n",
              "      box-shadow: 0px 1px 2px rgba(60, 64, 67, 0.3), 0px 1px 3px 1px rgba(60, 64, 67, 0.15);\n",
              "      fill: #174EA6;\n",
              "    }\n",
              "\n",
              "    .colab-df-buttons div {\n",
              "      margin-bottom: 4px;\n",
              "    }\n",
              "\n",
              "    [theme=dark] .colab-df-convert {\n",
              "      background-color: #3B4455;\n",
              "      fill: #D2E3FC;\n",
              "    }\n",
              "\n",
              "    [theme=dark] .colab-df-convert:hover {\n",
              "      background-color: #434B5C;\n",
              "      box-shadow: 0px 1px 3px 1px rgba(0, 0, 0, 0.15);\n",
              "      filter: drop-shadow(0px 1px 2px rgba(0, 0, 0, 0.3));\n",
              "      fill: #FFFFFF;\n",
              "    }\n",
              "  </style>\n",
              "\n",
              "    <script>\n",
              "      const buttonEl =\n",
              "        document.querySelector('#df-f5c365a8-231e-4b9d-99b2-7d4def438b2d button.colab-df-convert');\n",
              "      buttonEl.style.display =\n",
              "        google.colab.kernel.accessAllowed ? 'block' : 'none';\n",
              "\n",
              "      async function convertToInteractive(key) {\n",
              "        const element = document.querySelector('#df-f5c365a8-231e-4b9d-99b2-7d4def438b2d');\n",
              "        const dataTable =\n",
              "          await google.colab.kernel.invokeFunction('convertToInteractive',\n",
              "                                                    [key], {});\n",
              "        if (!dataTable) return;\n",
              "\n",
              "        const docLinkHtml = 'Like what you see? Visit the ' +\n",
              "          '<a target=\"_blank\" href=https://colab.research.google.com/notebooks/data_table.ipynb>data table notebook</a>'\n",
              "          + ' to learn more about interactive tables.';\n",
              "        element.innerHTML = '';\n",
              "        dataTable['output_type'] = 'display_data';\n",
              "        await google.colab.output.renderOutput(dataTable, element);\n",
              "        const docLink = document.createElement('div');\n",
              "        docLink.innerHTML = docLinkHtml;\n",
              "        element.appendChild(docLink);\n",
              "      }\n",
              "    </script>\n",
              "  </div>\n",
              "\n",
              "\n",
              "<div id=\"df-6c3652de-283d-4c80-aa50-75790cbd3326\">\n",
              "  <button class=\"colab-df-quickchart\" onclick=\"quickchart('df-6c3652de-283d-4c80-aa50-75790cbd3326')\"\n",
              "            title=\"Suggest charts\"\n",
              "            style=\"display:none;\">\n",
              "\n",
              "<svg xmlns=\"http://www.w3.org/2000/svg\" height=\"24px\"viewBox=\"0 0 24 24\"\n",
              "     width=\"24px\">\n",
              "    <g>\n",
              "        <path d=\"M19 3H5c-1.1 0-2 .9-2 2v14c0 1.1.9 2 2 2h14c1.1 0 2-.9 2-2V5c0-1.1-.9-2-2-2zM9 17H7v-7h2v7zm4 0h-2V7h2v10zm4 0h-2v-4h2v4z\"/>\n",
              "    </g>\n",
              "</svg>\n",
              "  </button>\n",
              "\n",
              "<style>\n",
              "  .colab-df-quickchart {\n",
              "      --bg-color: #E8F0FE;\n",
              "      --fill-color: #1967D2;\n",
              "      --hover-bg-color: #E2EBFA;\n",
              "      --hover-fill-color: #174EA6;\n",
              "      --disabled-fill-color: #AAA;\n",
              "      --disabled-bg-color: #DDD;\n",
              "  }\n",
              "\n",
              "  [theme=dark] .colab-df-quickchart {\n",
              "      --bg-color: #3B4455;\n",
              "      --fill-color: #D2E3FC;\n",
              "      --hover-bg-color: #434B5C;\n",
              "      --hover-fill-color: #FFFFFF;\n",
              "      --disabled-bg-color: #3B4455;\n",
              "      --disabled-fill-color: #666;\n",
              "  }\n",
              "\n",
              "  .colab-df-quickchart {\n",
              "    background-color: var(--bg-color);\n",
              "    border: none;\n",
              "    border-radius: 50%;\n",
              "    cursor: pointer;\n",
              "    display: none;\n",
              "    fill: var(--fill-color);\n",
              "    height: 32px;\n",
              "    padding: 0;\n",
              "    width: 32px;\n",
              "  }\n",
              "\n",
              "  .colab-df-quickchart:hover {\n",
              "    background-color: var(--hover-bg-color);\n",
              "    box-shadow: 0 1px 2px rgba(60, 64, 67, 0.3), 0 1px 3px 1px rgba(60, 64, 67, 0.15);\n",
              "    fill: var(--button-hover-fill-color);\n",
              "  }\n",
              "\n",
              "  .colab-df-quickchart-complete:disabled,\n",
              "  .colab-df-quickchart-complete:disabled:hover {\n",
              "    background-color: var(--disabled-bg-color);\n",
              "    fill: var(--disabled-fill-color);\n",
              "    box-shadow: none;\n",
              "  }\n",
              "\n",
              "  .colab-df-spinner {\n",
              "    border: 2px solid var(--fill-color);\n",
              "    border-color: transparent;\n",
              "    border-bottom-color: var(--fill-color);\n",
              "    animation:\n",
              "      spin 1s steps(1) infinite;\n",
              "  }\n",
              "\n",
              "  @keyframes spin {\n",
              "    0% {\n",
              "      border-color: transparent;\n",
              "      border-bottom-color: var(--fill-color);\n",
              "      border-left-color: var(--fill-color);\n",
              "    }\n",
              "    20% {\n",
              "      border-color: transparent;\n",
              "      border-left-color: var(--fill-color);\n",
              "      border-top-color: var(--fill-color);\n",
              "    }\n",
              "    30% {\n",
              "      border-color: transparent;\n",
              "      border-left-color: var(--fill-color);\n",
              "      border-top-color: var(--fill-color);\n",
              "      border-right-color: var(--fill-color);\n",
              "    }\n",
              "    40% {\n",
              "      border-color: transparent;\n",
              "      border-right-color: var(--fill-color);\n",
              "      border-top-color: var(--fill-color);\n",
              "    }\n",
              "    60% {\n",
              "      border-color: transparent;\n",
              "      border-right-color: var(--fill-color);\n",
              "    }\n",
              "    80% {\n",
              "      border-color: transparent;\n",
              "      border-right-color: var(--fill-color);\n",
              "      border-bottom-color: var(--fill-color);\n",
              "    }\n",
              "    90% {\n",
              "      border-color: transparent;\n",
              "      border-bottom-color: var(--fill-color);\n",
              "    }\n",
              "  }\n",
              "</style>\n",
              "\n",
              "  <script>\n",
              "    async function quickchart(key) {\n",
              "      const quickchartButtonEl =\n",
              "        document.querySelector('#' + key + ' button');\n",
              "      quickchartButtonEl.disabled = true;  // To prevent multiple clicks.\n",
              "      quickchartButtonEl.classList.add('colab-df-spinner');\n",
              "      try {\n",
              "        const charts = await google.colab.kernel.invokeFunction(\n",
              "            'suggestCharts', [key], {});\n",
              "      } catch (error) {\n",
              "        console.error('Error during call to suggestCharts:', error);\n",
              "      }\n",
              "      quickchartButtonEl.classList.remove('colab-df-spinner');\n",
              "      quickchartButtonEl.classList.add('colab-df-quickchart-complete');\n",
              "    }\n",
              "    (() => {\n",
              "      let quickchartButtonEl =\n",
              "        document.querySelector('#df-6c3652de-283d-4c80-aa50-75790cbd3326 button');\n",
              "      quickchartButtonEl.style.display =\n",
              "        google.colab.kernel.accessAllowed ? 'block' : 'none';\n",
              "    })();\n",
              "  </script>\n",
              "</div>\n",
              "\n",
              "  <div id=\"id_17f3be65-e59c-4c0f-99e8-61224e335fa7\">\n",
              "    <style>\n",
              "      .colab-df-generate {\n",
              "        background-color: #E8F0FE;\n",
              "        border: none;\n",
              "        border-radius: 50%;\n",
              "        cursor: pointer;\n",
              "        display: none;\n",
              "        fill: #1967D2;\n",
              "        height: 32px;\n",
              "        padding: 0 0 0 0;\n",
              "        width: 32px;\n",
              "      }\n",
              "\n",
              "      .colab-df-generate:hover {\n",
              "        background-color: #E2EBFA;\n",
              "        box-shadow: 0px 1px 2px rgba(60, 64, 67, 0.3), 0px 1px 3px 1px rgba(60, 64, 67, 0.15);\n",
              "        fill: #174EA6;\n",
              "      }\n",
              "\n",
              "      [theme=dark] .colab-df-generate {\n",
              "        background-color: #3B4455;\n",
              "        fill: #D2E3FC;\n",
              "      }\n",
              "\n",
              "      [theme=dark] .colab-df-generate:hover {\n",
              "        background-color: #434B5C;\n",
              "        box-shadow: 0px 1px 3px 1px rgba(0, 0, 0, 0.15);\n",
              "        filter: drop-shadow(0px 1px 2px rgba(0, 0, 0, 0.3));\n",
              "        fill: #FFFFFF;\n",
              "      }\n",
              "    </style>\n",
              "    <button class=\"colab-df-generate\" onclick=\"generateWithVariable('df')\"\n",
              "            title=\"Generate code using this dataframe.\"\n",
              "            style=\"display:none;\">\n",
              "\n",
              "  <svg xmlns=\"http://www.w3.org/2000/svg\" height=\"24px\"viewBox=\"0 0 24 24\"\n",
              "       width=\"24px\">\n",
              "    <path d=\"M7,19H8.4L18.45,9,17,7.55,7,17.6ZM5,21V16.75L18.45,3.32a2,2,0,0,1,2.83,0l1.4,1.43a1.91,1.91,0,0,1,.58,1.4,1.91,1.91,0,0,1-.58,1.4L9.25,21ZM18.45,9,17,7.55Zm-12,3A5.31,5.31,0,0,0,4.9,8.1,5.31,5.31,0,0,0,1,6.5,5.31,5.31,0,0,0,4.9,4.9,5.31,5.31,0,0,0,6.5,1,5.31,5.31,0,0,0,8.1,4.9,5.31,5.31,0,0,0,12,6.5,5.46,5.46,0,0,0,6.5,12Z\"/>\n",
              "  </svg>\n",
              "    </button>\n",
              "    <script>\n",
              "      (() => {\n",
              "      const buttonEl =\n",
              "        document.querySelector('#id_17f3be65-e59c-4c0f-99e8-61224e335fa7 button.colab-df-generate');\n",
              "      buttonEl.style.display =\n",
              "        google.colab.kernel.accessAllowed ? 'block' : 'none';\n",
              "\n",
              "      buttonEl.onclick = () => {\n",
              "        google.colab.notebook.generateWithVariable('df');\n",
              "      }\n",
              "      })();\n",
              "    </script>\n",
              "  </div>\n",
              "\n",
              "    </div>\n",
              "  </div>\n"
            ],
            "application/vnd.google.colaboratory.intrinsic+json": {
              "type": "dataframe",
              "variable_name": "df",
              "summary": "{\n  \"name\": \"df\",\n  \"rows\": 300,\n  \"fields\": [\n    {\n      \"column\": \"Item ID;Category;Location;Cost of Item;Visibility;Time of Theft;Stolen;Recovery Status\",\n      \"properties\": {\n        \"dtype\": \"string\",\n        \"num_unique_values\": 300,\n        \"samples\": [\n          \"204;Art;Mall D;889;Low;Night;Yes;Recovered\",\n          \"267;Clothing;Mall C;21;High;Morning;Yes;Missing\",\n          \"153;Art;Mall A;435;High;Morning;No;N/A\"\n        ],\n        \"semantic_type\": \"\",\n        \"description\": \"\"\n      }\n    }\n  ]\n}"
            }
          },
          "metadata": {},
          "execution_count": 2
        }
      ]
    },
    {
      "cell_type": "markdown",
      "source": [
        "### Notice how all the columns are mushed together above?\n",
        "\n",
        "**TASK 2.1 (2 POINTS):** Find a way to separate them. Make changes to the above code for displaying the dataframe.\n",
        "\n",
        "hints: https://www.analyticsvidhya.com/blog/2021/04/delimiters-in-pandas-read_csv-function/\n"
      ],
      "metadata": {
        "id": "h7ECEjyu6zS7"
      }
    },
    {
      "cell_type": "code",
      "source": [
        "# ANSWER STARTING HERE\n",
        "df = pd.read_csv(\"theft_data.csv\", sep=';')\n",
        "df"
      ],
      "metadata": {
        "id": "2lL0b9rc2xKa",
        "colab": {
          "base_uri": "https://localhost:8080/",
          "height": 424
        },
        "outputId": "ac80d6c5-80ea-4bf7-9c22-73f3bc9861c7"
      },
      "execution_count": null,
      "outputs": [
        {
          "output_type": "execute_result",
          "data": {
            "text/plain": [
              "     Item ID              Category Location  Cost of Item Visibility  \\\n",
              "0          1               Jewelry   Mall D          1492        Low   \n",
              "1          2           Electronics   Mall C            57     Medium   \n",
              "2          3              Clothing   Mall A           342       High   \n",
              "3          4  Personal Accessories   Mall A           330     Medium   \n",
              "4          5              Antiques   Mall D          7496     Medium   \n",
              "..       ...                   ...      ...           ...        ...   \n",
              "295      296               Jewelry   Mall B           113       High   \n",
              "296      297               Jewelry   Mall A           792     Medium   \n",
              "297      298              Clothing   Mall A           674        Low   \n",
              "298      299              Clothing   Mall A           990       High   \n",
              "299      300              Antiques   Mall D           571     Medium   \n",
              "\n",
              "    Time of Theft Stolen Recovery Status  \n",
              "0         Morning     No             NaN  \n",
              "1           Night    Yes       Recovered  \n",
              "2        Midnight     No             NaN  \n",
              "3       Afternoon    Yes       Recovered  \n",
              "4        Midnight    Yes       Recovered  \n",
              "..            ...    ...             ...  \n",
              "295       Morning    Yes       Recovered  \n",
              "296      Midnight     No             NaN  \n",
              "297       Evening     No             NaN  \n",
              "298      Midnight    Yes         Missing  \n",
              "299       Evening    Yes       Recovered  \n",
              "\n",
              "[300 rows x 8 columns]"
            ],
            "text/html": [
              "\n",
              "  <div id=\"df-49b1036e-ceea-4e99-ac59-b89679438136\" class=\"colab-df-container\">\n",
              "    <div>\n",
              "<style scoped>\n",
              "    .dataframe tbody tr th:only-of-type {\n",
              "        vertical-align: middle;\n",
              "    }\n",
              "\n",
              "    .dataframe tbody tr th {\n",
              "        vertical-align: top;\n",
              "    }\n",
              "\n",
              "    .dataframe thead th {\n",
              "        text-align: right;\n",
              "    }\n",
              "</style>\n",
              "<table border=\"1\" class=\"dataframe\">\n",
              "  <thead>\n",
              "    <tr style=\"text-align: right;\">\n",
              "      <th></th>\n",
              "      <th>Item ID</th>\n",
              "      <th>Category</th>\n",
              "      <th>Location</th>\n",
              "      <th>Cost of Item</th>\n",
              "      <th>Visibility</th>\n",
              "      <th>Time of Theft</th>\n",
              "      <th>Stolen</th>\n",
              "      <th>Recovery Status</th>\n",
              "    </tr>\n",
              "  </thead>\n",
              "  <tbody>\n",
              "    <tr>\n",
              "      <th>0</th>\n",
              "      <td>1</td>\n",
              "      <td>Jewelry</td>\n",
              "      <td>Mall D</td>\n",
              "      <td>1492</td>\n",
              "      <td>Low</td>\n",
              "      <td>Morning</td>\n",
              "      <td>No</td>\n",
              "      <td>NaN</td>\n",
              "    </tr>\n",
              "    <tr>\n",
              "      <th>1</th>\n",
              "      <td>2</td>\n",
              "      <td>Electronics</td>\n",
              "      <td>Mall C</td>\n",
              "      <td>57</td>\n",
              "      <td>Medium</td>\n",
              "      <td>Night</td>\n",
              "      <td>Yes</td>\n",
              "      <td>Recovered</td>\n",
              "    </tr>\n",
              "    <tr>\n",
              "      <th>2</th>\n",
              "      <td>3</td>\n",
              "      <td>Clothing</td>\n",
              "      <td>Mall A</td>\n",
              "      <td>342</td>\n",
              "      <td>High</td>\n",
              "      <td>Midnight</td>\n",
              "      <td>No</td>\n",
              "      <td>NaN</td>\n",
              "    </tr>\n",
              "    <tr>\n",
              "      <th>3</th>\n",
              "      <td>4</td>\n",
              "      <td>Personal Accessories</td>\n",
              "      <td>Mall A</td>\n",
              "      <td>330</td>\n",
              "      <td>Medium</td>\n",
              "      <td>Afternoon</td>\n",
              "      <td>Yes</td>\n",
              "      <td>Recovered</td>\n",
              "    </tr>\n",
              "    <tr>\n",
              "      <th>4</th>\n",
              "      <td>5</td>\n",
              "      <td>Antiques</td>\n",
              "      <td>Mall D</td>\n",
              "      <td>7496</td>\n",
              "      <td>Medium</td>\n",
              "      <td>Midnight</td>\n",
              "      <td>Yes</td>\n",
              "      <td>Recovered</td>\n",
              "    </tr>\n",
              "    <tr>\n",
              "      <th>...</th>\n",
              "      <td>...</td>\n",
              "      <td>...</td>\n",
              "      <td>...</td>\n",
              "      <td>...</td>\n",
              "      <td>...</td>\n",
              "      <td>...</td>\n",
              "      <td>...</td>\n",
              "      <td>...</td>\n",
              "    </tr>\n",
              "    <tr>\n",
              "      <th>295</th>\n",
              "      <td>296</td>\n",
              "      <td>Jewelry</td>\n",
              "      <td>Mall B</td>\n",
              "      <td>113</td>\n",
              "      <td>High</td>\n",
              "      <td>Morning</td>\n",
              "      <td>Yes</td>\n",
              "      <td>Recovered</td>\n",
              "    </tr>\n",
              "    <tr>\n",
              "      <th>296</th>\n",
              "      <td>297</td>\n",
              "      <td>Jewelry</td>\n",
              "      <td>Mall A</td>\n",
              "      <td>792</td>\n",
              "      <td>Medium</td>\n",
              "      <td>Midnight</td>\n",
              "      <td>No</td>\n",
              "      <td>NaN</td>\n",
              "    </tr>\n",
              "    <tr>\n",
              "      <th>297</th>\n",
              "      <td>298</td>\n",
              "      <td>Clothing</td>\n",
              "      <td>Mall A</td>\n",
              "      <td>674</td>\n",
              "      <td>Low</td>\n",
              "      <td>Evening</td>\n",
              "      <td>No</td>\n",
              "      <td>NaN</td>\n",
              "    </tr>\n",
              "    <tr>\n",
              "      <th>298</th>\n",
              "      <td>299</td>\n",
              "      <td>Clothing</td>\n",
              "      <td>Mall A</td>\n",
              "      <td>990</td>\n",
              "      <td>High</td>\n",
              "      <td>Midnight</td>\n",
              "      <td>Yes</td>\n",
              "      <td>Missing</td>\n",
              "    </tr>\n",
              "    <tr>\n",
              "      <th>299</th>\n",
              "      <td>300</td>\n",
              "      <td>Antiques</td>\n",
              "      <td>Mall D</td>\n",
              "      <td>571</td>\n",
              "      <td>Medium</td>\n",
              "      <td>Evening</td>\n",
              "      <td>Yes</td>\n",
              "      <td>Recovered</td>\n",
              "    </tr>\n",
              "  </tbody>\n",
              "</table>\n",
              "<p>300 rows × 8 columns</p>\n",
              "</div>\n",
              "    <div class=\"colab-df-buttons\">\n",
              "\n",
              "  <div class=\"colab-df-container\">\n",
              "    <button class=\"colab-df-convert\" onclick=\"convertToInteractive('df-49b1036e-ceea-4e99-ac59-b89679438136')\"\n",
              "            title=\"Convert this dataframe to an interactive table.\"\n",
              "            style=\"display:none;\">\n",
              "\n",
              "  <svg xmlns=\"http://www.w3.org/2000/svg\" height=\"24px\" viewBox=\"0 -960 960 960\">\n",
              "    <path d=\"M120-120v-720h720v720H120Zm60-500h600v-160H180v160Zm220 220h160v-160H400v160Zm0 220h160v-160H400v160ZM180-400h160v-160H180v160Zm440 0h160v-160H620v160ZM180-180h160v-160H180v160Zm440 0h160v-160H620v160Z\"/>\n",
              "  </svg>\n",
              "    </button>\n",
              "\n",
              "  <style>\n",
              "    .colab-df-container {\n",
              "      display:flex;\n",
              "      gap: 12px;\n",
              "    }\n",
              "\n",
              "    .colab-df-convert {\n",
              "      background-color: #E8F0FE;\n",
              "      border: none;\n",
              "      border-radius: 50%;\n",
              "      cursor: pointer;\n",
              "      display: none;\n",
              "      fill: #1967D2;\n",
              "      height: 32px;\n",
              "      padding: 0 0 0 0;\n",
              "      width: 32px;\n",
              "    }\n",
              "\n",
              "    .colab-df-convert:hover {\n",
              "      background-color: #E2EBFA;\n",
              "      box-shadow: 0px 1px 2px rgba(60, 64, 67, 0.3), 0px 1px 3px 1px rgba(60, 64, 67, 0.15);\n",
              "      fill: #174EA6;\n",
              "    }\n",
              "\n",
              "    .colab-df-buttons div {\n",
              "      margin-bottom: 4px;\n",
              "    }\n",
              "\n",
              "    [theme=dark] .colab-df-convert {\n",
              "      background-color: #3B4455;\n",
              "      fill: #D2E3FC;\n",
              "    }\n",
              "\n",
              "    [theme=dark] .colab-df-convert:hover {\n",
              "      background-color: #434B5C;\n",
              "      box-shadow: 0px 1px 3px 1px rgba(0, 0, 0, 0.15);\n",
              "      filter: drop-shadow(0px 1px 2px rgba(0, 0, 0, 0.3));\n",
              "      fill: #FFFFFF;\n",
              "    }\n",
              "  </style>\n",
              "\n",
              "    <script>\n",
              "      const buttonEl =\n",
              "        document.querySelector('#df-49b1036e-ceea-4e99-ac59-b89679438136 button.colab-df-convert');\n",
              "      buttonEl.style.display =\n",
              "        google.colab.kernel.accessAllowed ? 'block' : 'none';\n",
              "\n",
              "      async function convertToInteractive(key) {\n",
              "        const element = document.querySelector('#df-49b1036e-ceea-4e99-ac59-b89679438136');\n",
              "        const dataTable =\n",
              "          await google.colab.kernel.invokeFunction('convertToInteractive',\n",
              "                                                    [key], {});\n",
              "        if (!dataTable) return;\n",
              "\n",
              "        const docLinkHtml = 'Like what you see? Visit the ' +\n",
              "          '<a target=\"_blank\" href=https://colab.research.google.com/notebooks/data_table.ipynb>data table notebook</a>'\n",
              "          + ' to learn more about interactive tables.';\n",
              "        element.innerHTML = '';\n",
              "        dataTable['output_type'] = 'display_data';\n",
              "        await google.colab.output.renderOutput(dataTable, element);\n",
              "        const docLink = document.createElement('div');\n",
              "        docLink.innerHTML = docLinkHtml;\n",
              "        element.appendChild(docLink);\n",
              "      }\n",
              "    </script>\n",
              "  </div>\n",
              "\n",
              "\n",
              "<div id=\"df-9778b215-4410-46ed-962e-9cd298e61e9d\">\n",
              "  <button class=\"colab-df-quickchart\" onclick=\"quickchart('df-9778b215-4410-46ed-962e-9cd298e61e9d')\"\n",
              "            title=\"Suggest charts\"\n",
              "            style=\"display:none;\">\n",
              "\n",
              "<svg xmlns=\"http://www.w3.org/2000/svg\" height=\"24px\"viewBox=\"0 0 24 24\"\n",
              "     width=\"24px\">\n",
              "    <g>\n",
              "        <path d=\"M19 3H5c-1.1 0-2 .9-2 2v14c0 1.1.9 2 2 2h14c1.1 0 2-.9 2-2V5c0-1.1-.9-2-2-2zM9 17H7v-7h2v7zm4 0h-2V7h2v10zm4 0h-2v-4h2v4z\"/>\n",
              "    </g>\n",
              "</svg>\n",
              "  </button>\n",
              "\n",
              "<style>\n",
              "  .colab-df-quickchart {\n",
              "      --bg-color: #E8F0FE;\n",
              "      --fill-color: #1967D2;\n",
              "      --hover-bg-color: #E2EBFA;\n",
              "      --hover-fill-color: #174EA6;\n",
              "      --disabled-fill-color: #AAA;\n",
              "      --disabled-bg-color: #DDD;\n",
              "  }\n",
              "\n",
              "  [theme=dark] .colab-df-quickchart {\n",
              "      --bg-color: #3B4455;\n",
              "      --fill-color: #D2E3FC;\n",
              "      --hover-bg-color: #434B5C;\n",
              "      --hover-fill-color: #FFFFFF;\n",
              "      --disabled-bg-color: #3B4455;\n",
              "      --disabled-fill-color: #666;\n",
              "  }\n",
              "\n",
              "  .colab-df-quickchart {\n",
              "    background-color: var(--bg-color);\n",
              "    border: none;\n",
              "    border-radius: 50%;\n",
              "    cursor: pointer;\n",
              "    display: none;\n",
              "    fill: var(--fill-color);\n",
              "    height: 32px;\n",
              "    padding: 0;\n",
              "    width: 32px;\n",
              "  }\n",
              "\n",
              "  .colab-df-quickchart:hover {\n",
              "    background-color: var(--hover-bg-color);\n",
              "    box-shadow: 0 1px 2px rgba(60, 64, 67, 0.3), 0 1px 3px 1px rgba(60, 64, 67, 0.15);\n",
              "    fill: var(--button-hover-fill-color);\n",
              "  }\n",
              "\n",
              "  .colab-df-quickchart-complete:disabled,\n",
              "  .colab-df-quickchart-complete:disabled:hover {\n",
              "    background-color: var(--disabled-bg-color);\n",
              "    fill: var(--disabled-fill-color);\n",
              "    box-shadow: none;\n",
              "  }\n",
              "\n",
              "  .colab-df-spinner {\n",
              "    border: 2px solid var(--fill-color);\n",
              "    border-color: transparent;\n",
              "    border-bottom-color: var(--fill-color);\n",
              "    animation:\n",
              "      spin 1s steps(1) infinite;\n",
              "  }\n",
              "\n",
              "  @keyframes spin {\n",
              "    0% {\n",
              "      border-color: transparent;\n",
              "      border-bottom-color: var(--fill-color);\n",
              "      border-left-color: var(--fill-color);\n",
              "    }\n",
              "    20% {\n",
              "      border-color: transparent;\n",
              "      border-left-color: var(--fill-color);\n",
              "      border-top-color: var(--fill-color);\n",
              "    }\n",
              "    30% {\n",
              "      border-color: transparent;\n",
              "      border-left-color: var(--fill-color);\n",
              "      border-top-color: var(--fill-color);\n",
              "      border-right-color: var(--fill-color);\n",
              "    }\n",
              "    40% {\n",
              "      border-color: transparent;\n",
              "      border-right-color: var(--fill-color);\n",
              "      border-top-color: var(--fill-color);\n",
              "    }\n",
              "    60% {\n",
              "      border-color: transparent;\n",
              "      border-right-color: var(--fill-color);\n",
              "    }\n",
              "    80% {\n",
              "      border-color: transparent;\n",
              "      border-right-color: var(--fill-color);\n",
              "      border-bottom-color: var(--fill-color);\n",
              "    }\n",
              "    90% {\n",
              "      border-color: transparent;\n",
              "      border-bottom-color: var(--fill-color);\n",
              "    }\n",
              "  }\n",
              "</style>\n",
              "\n",
              "  <script>\n",
              "    async function quickchart(key) {\n",
              "      const quickchartButtonEl =\n",
              "        document.querySelector('#' + key + ' button');\n",
              "      quickchartButtonEl.disabled = true;  // To prevent multiple clicks.\n",
              "      quickchartButtonEl.classList.add('colab-df-spinner');\n",
              "      try {\n",
              "        const charts = await google.colab.kernel.invokeFunction(\n",
              "            'suggestCharts', [key], {});\n",
              "      } catch (error) {\n",
              "        console.error('Error during call to suggestCharts:', error);\n",
              "      }\n",
              "      quickchartButtonEl.classList.remove('colab-df-spinner');\n",
              "      quickchartButtonEl.classList.add('colab-df-quickchart-complete');\n",
              "    }\n",
              "    (() => {\n",
              "      let quickchartButtonEl =\n",
              "        document.querySelector('#df-9778b215-4410-46ed-962e-9cd298e61e9d button');\n",
              "      quickchartButtonEl.style.display =\n",
              "        google.colab.kernel.accessAllowed ? 'block' : 'none';\n",
              "    })();\n",
              "  </script>\n",
              "</div>\n",
              "\n",
              "  <div id=\"id_e2f5f870-b7e3-4730-a6ae-14fb7dd66bd6\">\n",
              "    <style>\n",
              "      .colab-df-generate {\n",
              "        background-color: #E8F0FE;\n",
              "        border: none;\n",
              "        border-radius: 50%;\n",
              "        cursor: pointer;\n",
              "        display: none;\n",
              "        fill: #1967D2;\n",
              "        height: 32px;\n",
              "        padding: 0 0 0 0;\n",
              "        width: 32px;\n",
              "      }\n",
              "\n",
              "      .colab-df-generate:hover {\n",
              "        background-color: #E2EBFA;\n",
              "        box-shadow: 0px 1px 2px rgba(60, 64, 67, 0.3), 0px 1px 3px 1px rgba(60, 64, 67, 0.15);\n",
              "        fill: #174EA6;\n",
              "      }\n",
              "\n",
              "      [theme=dark] .colab-df-generate {\n",
              "        background-color: #3B4455;\n",
              "        fill: #D2E3FC;\n",
              "      }\n",
              "\n",
              "      [theme=dark] .colab-df-generate:hover {\n",
              "        background-color: #434B5C;\n",
              "        box-shadow: 0px 1px 3px 1px rgba(0, 0, 0, 0.15);\n",
              "        filter: drop-shadow(0px 1px 2px rgba(0, 0, 0, 0.3));\n",
              "        fill: #FFFFFF;\n",
              "      }\n",
              "    </style>\n",
              "    <button class=\"colab-df-generate\" onclick=\"generateWithVariable('df')\"\n",
              "            title=\"Generate code using this dataframe.\"\n",
              "            style=\"display:none;\">\n",
              "\n",
              "  <svg xmlns=\"http://www.w3.org/2000/svg\" height=\"24px\"viewBox=\"0 0 24 24\"\n",
              "       width=\"24px\">\n",
              "    <path d=\"M7,19H8.4L18.45,9,17,7.55,7,17.6ZM5,21V16.75L18.45,3.32a2,2,0,0,1,2.83,0l1.4,1.43a1.91,1.91,0,0,1,.58,1.4,1.91,1.91,0,0,1-.58,1.4L9.25,21ZM18.45,9,17,7.55Zm-12,3A5.31,5.31,0,0,0,4.9,8.1,5.31,5.31,0,0,0,1,6.5,5.31,5.31,0,0,0,4.9,4.9,5.31,5.31,0,0,0,6.5,1,5.31,5.31,0,0,0,8.1,4.9,5.31,5.31,0,0,0,12,6.5,5.46,5.46,0,0,0,6.5,12Z\"/>\n",
              "  </svg>\n",
              "    </button>\n",
              "    <script>\n",
              "      (() => {\n",
              "      const buttonEl =\n",
              "        document.querySelector('#id_e2f5f870-b7e3-4730-a6ae-14fb7dd66bd6 button.colab-df-generate');\n",
              "      buttonEl.style.display =\n",
              "        google.colab.kernel.accessAllowed ? 'block' : 'none';\n",
              "\n",
              "      buttonEl.onclick = () => {\n",
              "        google.colab.notebook.generateWithVariable('df');\n",
              "      }\n",
              "      })();\n",
              "    </script>\n",
              "  </div>\n",
              "\n",
              "    </div>\n",
              "  </div>\n"
            ],
            "application/vnd.google.colaboratory.intrinsic+json": {
              "type": "dataframe",
              "variable_name": "df",
              "summary": "{\n  \"name\": \"df\",\n  \"rows\": 300,\n  \"fields\": [\n    {\n      \"column\": \"Item ID\",\n      \"properties\": {\n        \"dtype\": \"number\",\n        \"std\": 86,\n        \"min\": 1,\n        \"max\": 300,\n        \"num_unique_values\": 300,\n        \"samples\": [\n          204,\n          267,\n          153\n        ],\n        \"semantic_type\": \"\",\n        \"description\": \"\"\n      }\n    },\n    {\n      \"column\": \"Category\",\n      \"properties\": {\n        \"dtype\": \"category\",\n        \"num_unique_values\": 8,\n        \"samples\": [\n          \"Electronics\",\n          \"Instruments\",\n          \"Jewelry\"\n        ],\n        \"semantic_type\": \"\",\n        \"description\": \"\"\n      }\n    },\n    {\n      \"column\": \"Location\",\n      \"properties\": {\n        \"dtype\": \"category\",\n        \"num_unique_values\": 4,\n        \"samples\": [\n          \"Mall C\",\n          \"Mall B\",\n          \"Mall D\"\n        ],\n        \"semantic_type\": \"\",\n        \"description\": \"\"\n      }\n    },\n    {\n      \"column\": \"Cost of Item\",\n      \"properties\": {\n        \"dtype\": \"number\",\n        \"std\": 2070,\n        \"min\": 9,\n        \"max\": 9527,\n        \"num_unique_values\": 267,\n        \"samples\": [\n          114,\n          773,\n          92\n        ],\n        \"semantic_type\": \"\",\n        \"description\": \"\"\n      }\n    },\n    {\n      \"column\": \"Visibility\",\n      \"properties\": {\n        \"dtype\": \"category\",\n        \"num_unique_values\": 3,\n        \"samples\": [\n          \"Low\",\n          \"Medium\",\n          \"High\"\n        ],\n        \"semantic_type\": \"\",\n        \"description\": \"\"\n      }\n    },\n    {\n      \"column\": \"Time of Theft\",\n      \"properties\": {\n        \"dtype\": \"category\",\n        \"num_unique_values\": 5,\n        \"samples\": [\n          \"Night\",\n          \"Evening\",\n          \"Midnight\"\n        ],\n        \"semantic_type\": \"\",\n        \"description\": \"\"\n      }\n    },\n    {\n      \"column\": \"Stolen\",\n      \"properties\": {\n        \"dtype\": \"category\",\n        \"num_unique_values\": 2,\n        \"samples\": [\n          \"Yes\",\n          \"No\"\n        ],\n        \"semantic_type\": \"\",\n        \"description\": \"\"\n      }\n    },\n    {\n      \"column\": \"Recovery Status\",\n      \"properties\": {\n        \"dtype\": \"category\",\n        \"num_unique_values\": 2,\n        \"samples\": [\n          \"Missing\",\n          \"Recovered\"\n        ],\n        \"semantic_type\": \"\",\n        \"description\": \"\"\n      }\n    }\n  ]\n}"
            }
          },
          "metadata": {},
          "execution_count": 3
        }
      ]
    },
    {
      "cell_type": "markdown",
      "source": [
        "#*Q3)*  (6 POINTS) Next, Apply Hypothesis Testing"
      ],
      "metadata": {
        "id": "pzwSpXB-7fKA"
      }
    },
    {
      "cell_type": "markdown",
      "source": [
        "- Lets try to **find relationships in this data** through a hypothesis test. For this example, we will be using a Chi-Squared Test\n",
        "\n",
        "- First we must chose a null hypothese, or a statement that there is no effect between different variables, that serves as a default assumption.\n",
        "\n",
        "- Then we chose an alternative hypothesis, or a statement that suggests that there is a correlation between different variables  \n",
        "\n",
        "- **For the questions below assume that the alpha value is 0.05**"
      ],
      "metadata": {
        "id": "h27RjOEp7jbD"
      }
    },
    {
      "cell_type": "markdown",
      "source": [
        "## For this Example - **Given the following:**"
      ],
      "metadata": {
        "id": "LkghYiRE8os2"
      }
    },
    {
      "cell_type": "markdown",
      "source": [
        "- $H_{0}$: The category of the item does not have an effect on the likelyhood of the item being stolen\n",
        "\n",
        "- $H_{A}$: The category of the item does have an effect on the likelyhood of the item being stolen"
      ],
      "metadata": {
        "id": "tTIg9o018tDT"
      }
    },
    {
      "cell_type": "markdown",
      "source": [
        "Our plan is to apply Chi-Squared Test.\n",
        "For that first, we will probably want a contingency table and a way to create one. Here is a helpful documentation for the library we'll be using\n",
        "https://docs.scipy.org/doc/scipy/reference/stats.html"
      ],
      "metadata": {
        "id": "7gGUOQ0k86wr"
      }
    },
    {
      "cell_type": "markdown",
      "source": [
        "**TASK 3.1 (2 POINTS)**: Create a contingency table and display it."
      ],
      "metadata": {
        "id": "h_oSvey7H2Bu"
      }
    },
    {
      "cell_type": "code",
      "source": [
        "# ANSWER STARTING HERE\n",
        "contingency_table = pd.crosstab(df['Category'], df['Stolen'])\n",
        "contingency_table"
      ],
      "metadata": {
        "id": "rC7T9KZu9F5_",
        "colab": {
          "base_uri": "https://localhost:8080/",
          "height": 332
        },
        "outputId": "7c63761c-853c-4f91-98e4-174cb1067707"
      },
      "execution_count": null,
      "outputs": [
        {
          "output_type": "execute_result",
          "data": {
            "text/plain": [
              "Stolen                No  Yes\n",
              "Category                     \n",
              "Antiques              21   20\n",
              "Art                   21   24\n",
              "Clothing              12   17\n",
              "Collectibles          13   23\n",
              "Electronics           16   23\n",
              "Instruments           12   23\n",
              "Jewelry               21   20\n",
              "Personal Accessories  20   14"
            ],
            "text/html": [
              "\n",
              "  <div id=\"df-429b4560-b28a-4e9a-b368-8f75dea04b30\" class=\"colab-df-container\">\n",
              "    <div>\n",
              "<style scoped>\n",
              "    .dataframe tbody tr th:only-of-type {\n",
              "        vertical-align: middle;\n",
              "    }\n",
              "\n",
              "    .dataframe tbody tr th {\n",
              "        vertical-align: top;\n",
              "    }\n",
              "\n",
              "    .dataframe thead th {\n",
              "        text-align: right;\n",
              "    }\n",
              "</style>\n",
              "<table border=\"1\" class=\"dataframe\">\n",
              "  <thead>\n",
              "    <tr style=\"text-align: right;\">\n",
              "      <th>Stolen</th>\n",
              "      <th>No</th>\n",
              "      <th>Yes</th>\n",
              "    </tr>\n",
              "    <tr>\n",
              "      <th>Category</th>\n",
              "      <th></th>\n",
              "      <th></th>\n",
              "    </tr>\n",
              "  </thead>\n",
              "  <tbody>\n",
              "    <tr>\n",
              "      <th>Antiques</th>\n",
              "      <td>21</td>\n",
              "      <td>20</td>\n",
              "    </tr>\n",
              "    <tr>\n",
              "      <th>Art</th>\n",
              "      <td>21</td>\n",
              "      <td>24</td>\n",
              "    </tr>\n",
              "    <tr>\n",
              "      <th>Clothing</th>\n",
              "      <td>12</td>\n",
              "      <td>17</td>\n",
              "    </tr>\n",
              "    <tr>\n",
              "      <th>Collectibles</th>\n",
              "      <td>13</td>\n",
              "      <td>23</td>\n",
              "    </tr>\n",
              "    <tr>\n",
              "      <th>Electronics</th>\n",
              "      <td>16</td>\n",
              "      <td>23</td>\n",
              "    </tr>\n",
              "    <tr>\n",
              "      <th>Instruments</th>\n",
              "      <td>12</td>\n",
              "      <td>23</td>\n",
              "    </tr>\n",
              "    <tr>\n",
              "      <th>Jewelry</th>\n",
              "      <td>21</td>\n",
              "      <td>20</td>\n",
              "    </tr>\n",
              "    <tr>\n",
              "      <th>Personal Accessories</th>\n",
              "      <td>20</td>\n",
              "      <td>14</td>\n",
              "    </tr>\n",
              "  </tbody>\n",
              "</table>\n",
              "</div>\n",
              "    <div class=\"colab-df-buttons\">\n",
              "\n",
              "  <div class=\"colab-df-container\">\n",
              "    <button class=\"colab-df-convert\" onclick=\"convertToInteractive('df-429b4560-b28a-4e9a-b368-8f75dea04b30')\"\n",
              "            title=\"Convert this dataframe to an interactive table.\"\n",
              "            style=\"display:none;\">\n",
              "\n",
              "  <svg xmlns=\"http://www.w3.org/2000/svg\" height=\"24px\" viewBox=\"0 -960 960 960\">\n",
              "    <path d=\"M120-120v-720h720v720H120Zm60-500h600v-160H180v160Zm220 220h160v-160H400v160Zm0 220h160v-160H400v160ZM180-400h160v-160H180v160Zm440 0h160v-160H620v160ZM180-180h160v-160H180v160Zm440 0h160v-160H620v160Z\"/>\n",
              "  </svg>\n",
              "    </button>\n",
              "\n",
              "  <style>\n",
              "    .colab-df-container {\n",
              "      display:flex;\n",
              "      gap: 12px;\n",
              "    }\n",
              "\n",
              "    .colab-df-convert {\n",
              "      background-color: #E8F0FE;\n",
              "      border: none;\n",
              "      border-radius: 50%;\n",
              "      cursor: pointer;\n",
              "      display: none;\n",
              "      fill: #1967D2;\n",
              "      height: 32px;\n",
              "      padding: 0 0 0 0;\n",
              "      width: 32px;\n",
              "    }\n",
              "\n",
              "    .colab-df-convert:hover {\n",
              "      background-color: #E2EBFA;\n",
              "      box-shadow: 0px 1px 2px rgba(60, 64, 67, 0.3), 0px 1px 3px 1px rgba(60, 64, 67, 0.15);\n",
              "      fill: #174EA6;\n",
              "    }\n",
              "\n",
              "    .colab-df-buttons div {\n",
              "      margin-bottom: 4px;\n",
              "    }\n",
              "\n",
              "    [theme=dark] .colab-df-convert {\n",
              "      background-color: #3B4455;\n",
              "      fill: #D2E3FC;\n",
              "    }\n",
              "\n",
              "    [theme=dark] .colab-df-convert:hover {\n",
              "      background-color: #434B5C;\n",
              "      box-shadow: 0px 1px 3px 1px rgba(0, 0, 0, 0.15);\n",
              "      filter: drop-shadow(0px 1px 2px rgba(0, 0, 0, 0.3));\n",
              "      fill: #FFFFFF;\n",
              "    }\n",
              "  </style>\n",
              "\n",
              "    <script>\n",
              "      const buttonEl =\n",
              "        document.querySelector('#df-429b4560-b28a-4e9a-b368-8f75dea04b30 button.colab-df-convert');\n",
              "      buttonEl.style.display =\n",
              "        google.colab.kernel.accessAllowed ? 'block' : 'none';\n",
              "\n",
              "      async function convertToInteractive(key) {\n",
              "        const element = document.querySelector('#df-429b4560-b28a-4e9a-b368-8f75dea04b30');\n",
              "        const dataTable =\n",
              "          await google.colab.kernel.invokeFunction('convertToInteractive',\n",
              "                                                    [key], {});\n",
              "        if (!dataTable) return;\n",
              "\n",
              "        const docLinkHtml = 'Like what you see? Visit the ' +\n",
              "          '<a target=\"_blank\" href=https://colab.research.google.com/notebooks/data_table.ipynb>data table notebook</a>'\n",
              "          + ' to learn more about interactive tables.';\n",
              "        element.innerHTML = '';\n",
              "        dataTable['output_type'] = 'display_data';\n",
              "        await google.colab.output.renderOutput(dataTable, element);\n",
              "        const docLink = document.createElement('div');\n",
              "        docLink.innerHTML = docLinkHtml;\n",
              "        element.appendChild(docLink);\n",
              "      }\n",
              "    </script>\n",
              "  </div>\n",
              "\n",
              "\n",
              "<div id=\"df-4af05d7f-2a53-4864-ac10-eb561c838766\">\n",
              "  <button class=\"colab-df-quickchart\" onclick=\"quickchart('df-4af05d7f-2a53-4864-ac10-eb561c838766')\"\n",
              "            title=\"Suggest charts\"\n",
              "            style=\"display:none;\">\n",
              "\n",
              "<svg xmlns=\"http://www.w3.org/2000/svg\" height=\"24px\"viewBox=\"0 0 24 24\"\n",
              "     width=\"24px\">\n",
              "    <g>\n",
              "        <path d=\"M19 3H5c-1.1 0-2 .9-2 2v14c0 1.1.9 2 2 2h14c1.1 0 2-.9 2-2V5c0-1.1-.9-2-2-2zM9 17H7v-7h2v7zm4 0h-2V7h2v10zm4 0h-2v-4h2v4z\"/>\n",
              "    </g>\n",
              "</svg>\n",
              "  </button>\n",
              "\n",
              "<style>\n",
              "  .colab-df-quickchart {\n",
              "      --bg-color: #E8F0FE;\n",
              "      --fill-color: #1967D2;\n",
              "      --hover-bg-color: #E2EBFA;\n",
              "      --hover-fill-color: #174EA6;\n",
              "      --disabled-fill-color: #AAA;\n",
              "      --disabled-bg-color: #DDD;\n",
              "  }\n",
              "\n",
              "  [theme=dark] .colab-df-quickchart {\n",
              "      --bg-color: #3B4455;\n",
              "      --fill-color: #D2E3FC;\n",
              "      --hover-bg-color: #434B5C;\n",
              "      --hover-fill-color: #FFFFFF;\n",
              "      --disabled-bg-color: #3B4455;\n",
              "      --disabled-fill-color: #666;\n",
              "  }\n",
              "\n",
              "  .colab-df-quickchart {\n",
              "    background-color: var(--bg-color);\n",
              "    border: none;\n",
              "    border-radius: 50%;\n",
              "    cursor: pointer;\n",
              "    display: none;\n",
              "    fill: var(--fill-color);\n",
              "    height: 32px;\n",
              "    padding: 0;\n",
              "    width: 32px;\n",
              "  }\n",
              "\n",
              "  .colab-df-quickchart:hover {\n",
              "    background-color: var(--hover-bg-color);\n",
              "    box-shadow: 0 1px 2px rgba(60, 64, 67, 0.3), 0 1px 3px 1px rgba(60, 64, 67, 0.15);\n",
              "    fill: var(--button-hover-fill-color);\n",
              "  }\n",
              "\n",
              "  .colab-df-quickchart-complete:disabled,\n",
              "  .colab-df-quickchart-complete:disabled:hover {\n",
              "    background-color: var(--disabled-bg-color);\n",
              "    fill: var(--disabled-fill-color);\n",
              "    box-shadow: none;\n",
              "  }\n",
              "\n",
              "  .colab-df-spinner {\n",
              "    border: 2px solid var(--fill-color);\n",
              "    border-color: transparent;\n",
              "    border-bottom-color: var(--fill-color);\n",
              "    animation:\n",
              "      spin 1s steps(1) infinite;\n",
              "  }\n",
              "\n",
              "  @keyframes spin {\n",
              "    0% {\n",
              "      border-color: transparent;\n",
              "      border-bottom-color: var(--fill-color);\n",
              "      border-left-color: var(--fill-color);\n",
              "    }\n",
              "    20% {\n",
              "      border-color: transparent;\n",
              "      border-left-color: var(--fill-color);\n",
              "      border-top-color: var(--fill-color);\n",
              "    }\n",
              "    30% {\n",
              "      border-color: transparent;\n",
              "      border-left-color: var(--fill-color);\n",
              "      border-top-color: var(--fill-color);\n",
              "      border-right-color: var(--fill-color);\n",
              "    }\n",
              "    40% {\n",
              "      border-color: transparent;\n",
              "      border-right-color: var(--fill-color);\n",
              "      border-top-color: var(--fill-color);\n",
              "    }\n",
              "    60% {\n",
              "      border-color: transparent;\n",
              "      border-right-color: var(--fill-color);\n",
              "    }\n",
              "    80% {\n",
              "      border-color: transparent;\n",
              "      border-right-color: var(--fill-color);\n",
              "      border-bottom-color: var(--fill-color);\n",
              "    }\n",
              "    90% {\n",
              "      border-color: transparent;\n",
              "      border-bottom-color: var(--fill-color);\n",
              "    }\n",
              "  }\n",
              "</style>\n",
              "\n",
              "  <script>\n",
              "    async function quickchart(key) {\n",
              "      const quickchartButtonEl =\n",
              "        document.querySelector('#' + key + ' button');\n",
              "      quickchartButtonEl.disabled = true;  // To prevent multiple clicks.\n",
              "      quickchartButtonEl.classList.add('colab-df-spinner');\n",
              "      try {\n",
              "        const charts = await google.colab.kernel.invokeFunction(\n",
              "            'suggestCharts', [key], {});\n",
              "      } catch (error) {\n",
              "        console.error('Error during call to suggestCharts:', error);\n",
              "      }\n",
              "      quickchartButtonEl.classList.remove('colab-df-spinner');\n",
              "      quickchartButtonEl.classList.add('colab-df-quickchart-complete');\n",
              "    }\n",
              "    (() => {\n",
              "      let quickchartButtonEl =\n",
              "        document.querySelector('#df-4af05d7f-2a53-4864-ac10-eb561c838766 button');\n",
              "      quickchartButtonEl.style.display =\n",
              "        google.colab.kernel.accessAllowed ? 'block' : 'none';\n",
              "    })();\n",
              "  </script>\n",
              "</div>\n",
              "\n",
              "  <div id=\"id_4513e296-74d1-4265-9565-b350074a8c97\">\n",
              "    <style>\n",
              "      .colab-df-generate {\n",
              "        background-color: #E8F0FE;\n",
              "        border: none;\n",
              "        border-radius: 50%;\n",
              "        cursor: pointer;\n",
              "        display: none;\n",
              "        fill: #1967D2;\n",
              "        height: 32px;\n",
              "        padding: 0 0 0 0;\n",
              "        width: 32px;\n",
              "      }\n",
              "\n",
              "      .colab-df-generate:hover {\n",
              "        background-color: #E2EBFA;\n",
              "        box-shadow: 0px 1px 2px rgba(60, 64, 67, 0.3), 0px 1px 3px 1px rgba(60, 64, 67, 0.15);\n",
              "        fill: #174EA6;\n",
              "      }\n",
              "\n",
              "      [theme=dark] .colab-df-generate {\n",
              "        background-color: #3B4455;\n",
              "        fill: #D2E3FC;\n",
              "      }\n",
              "\n",
              "      [theme=dark] .colab-df-generate:hover {\n",
              "        background-color: #434B5C;\n",
              "        box-shadow: 0px 1px 3px 1px rgba(0, 0, 0, 0.15);\n",
              "        filter: drop-shadow(0px 1px 2px rgba(0, 0, 0, 0.3));\n",
              "        fill: #FFFFFF;\n",
              "      }\n",
              "    </style>\n",
              "    <button class=\"colab-df-generate\" onclick=\"generateWithVariable('contingency_table')\"\n",
              "            title=\"Generate code using this dataframe.\"\n",
              "            style=\"display:none;\">\n",
              "\n",
              "  <svg xmlns=\"http://www.w3.org/2000/svg\" height=\"24px\"viewBox=\"0 0 24 24\"\n",
              "       width=\"24px\">\n",
              "    <path d=\"M7,19H8.4L18.45,9,17,7.55,7,17.6ZM5,21V16.75L18.45,3.32a2,2,0,0,1,2.83,0l1.4,1.43a1.91,1.91,0,0,1,.58,1.4,1.91,1.91,0,0,1-.58,1.4L9.25,21ZM18.45,9,17,7.55Zm-12,3A5.31,5.31,0,0,0,4.9,8.1,5.31,5.31,0,0,0,1,6.5,5.31,5.31,0,0,0,4.9,4.9,5.31,5.31,0,0,0,6.5,1,5.31,5.31,0,0,0,8.1,4.9,5.31,5.31,0,0,0,12,6.5,5.46,5.46,0,0,0,6.5,12Z\"/>\n",
              "  </svg>\n",
              "    </button>\n",
              "    <script>\n",
              "      (() => {\n",
              "      const buttonEl =\n",
              "        document.querySelector('#id_4513e296-74d1-4265-9565-b350074a8c97 button.colab-df-generate');\n",
              "      buttonEl.style.display =\n",
              "        google.colab.kernel.accessAllowed ? 'block' : 'none';\n",
              "\n",
              "      buttonEl.onclick = () => {\n",
              "        google.colab.notebook.generateWithVariable('contingency_table');\n",
              "      }\n",
              "      })();\n",
              "    </script>\n",
              "  </div>\n",
              "\n",
              "    </div>\n",
              "  </div>\n"
            ],
            "application/vnd.google.colaboratory.intrinsic+json": {
              "type": "dataframe",
              "variable_name": "contingency_table",
              "summary": "{\n  \"name\": \"contingency_table\",\n  \"rows\": 8,\n  \"fields\": [\n    {\n      \"column\": \"Category\",\n      \"properties\": {\n        \"dtype\": \"string\",\n        \"num_unique_values\": 8,\n        \"samples\": [\n          \"Art\",\n          \"Instruments\",\n          \"Antiques\"\n        ],\n        \"semantic_type\": \"\",\n        \"description\": \"\"\n      }\n    },\n    {\n      \"column\": \"No\",\n      \"properties\": {\n        \"dtype\": \"number\",\n        \"std\": 4,\n        \"min\": 12,\n        \"max\": 21,\n        \"num_unique_values\": 5,\n        \"samples\": [\n          12,\n          20,\n          13\n        ],\n        \"semantic_type\": \"\",\n        \"description\": \"\"\n      }\n    },\n    {\n      \"column\": \"Yes\",\n      \"properties\": {\n        \"dtype\": \"number\",\n        \"std\": 3,\n        \"min\": 14,\n        \"max\": 24,\n        \"num_unique_values\": 5,\n        \"samples\": [\n          24,\n          14,\n          17\n        ],\n        \"semantic_type\": \"\",\n        \"description\": \"\"\n      }\n    }\n  ]\n}"
            }
          },
          "metadata": {},
          "execution_count": 4
        }
      ]
    },
    {
      "cell_type": "markdown",
      "source": [
        "**TASK 3.2 (2 POINTS): Explain below why we are considering the use of\n",
        "chi-squared test here.**"
      ],
      "metadata": {
        "id": "Zn3EkECR9ego"
      }
    },
    {
      "cell_type": "markdown",
      "source": [
        "The Chi-Squared Test is used to determine whether there is a significant association between two categorical variables. In this case, we are interested in examining the relationship between the category of an item and the likelihood of it being stolen.\n",
        "\n",
        "We aim to test whether the likelihood of an item being stolen is independent of its category. The null hypothesis (H0) states that the category of the item does not affect its likelihood of being stolen, while the alternative hypothesis (HA) suggests that there is an effect."
      ],
      "metadata": {
        "id": "yPVqC4sk9sFH"
      }
    },
    {
      "cell_type": "markdown",
      "source": [
        "**TASK 3.3 (2 POINTS): Create a plot showing the relationship between the item categories, and the counts of it being stolen**"
      ],
      "metadata": {
        "id": "wlfByGrRIobE"
      }
    },
    {
      "cell_type": "code",
      "source": [
        "# ANSWER STARTING HERE\n",
        "contingency_table.plot(kind='bar')\n",
        "plt.xlabel('Category')\n",
        "plt.ylabel('Count of Items Stolen')\n",
        "plt.title('Count of Items Stolen by Category')\n",
        "plt.show()"
      ],
      "metadata": {
        "id": "cwC0m4YTIxcz",
        "colab": {
          "base_uri": "https://localhost:8080/",
          "height": 602
        },
        "outputId": "97f24a49-7808-4ca8-a0f6-70a4c578924b"
      },
      "execution_count": null,
      "outputs": [
        {
          "output_type": "display_data",
          "data": {
            "text/plain": [
              "<Figure size 640x480 with 1 Axes>"
            ],
            "image/png": "[encoded data removed]"
          },
          "metadata": {}
        }
      ]
    },
    {
      "cell_type": "markdown",
      "source": [
        "#Q4) (5 POINTS) Use the chi2_contingency() function"
      ],
      "metadata": {
        "id": "8vo_2ozW9sfh"
      }
    },
    {
      "cell_type": "markdown",
      "source": [
        "Next we want to conduct the chi-squared test using the chi2_contingency() function\n"
      ],
      "metadata": {
        "id": "BdO9PoKK9y8N"
      }
    },
    {
      "cell_type": "markdown",
      "source": [
        "**TASK: 4.1 (2 POINTS):** Display P-Value by applying the chi-squared test using the chi2_contingency() function"
      ],
      "metadata": {
        "id": "wMjNQ2ZlJqtO"
      }
    },
    {
      "cell_type": "code",
      "source": [
        "# ANSWER STARTING HERE\n",
        "p_value = chi2_contingency(contingency_table)[1]\n",
        "print(p_value)"
      ],
      "metadata": {
        "id": "kogfjOyy98Nt",
        "colab": {
          "base_uri": "https://localhost:8080/"
        },
        "outputId": "445eed39-f990-46d8-dcfd-88f25ec55938"
      },
      "execution_count": null,
      "outputs": [
        {
          "output_type": "stream",
          "name": "stdout",
          "text": [
            "0.4175580288155116\n"
          ]
        }
      ]
    },
    {
      "cell_type": "markdown",
      "source": [
        "**TASK: 4.2  (3 POINTS): Based on the obtained P- Value, determine whether to reject or fail to reject the null hypothesis. Explain Why?**"
      ],
      "metadata": {
        "id": "WmGcsPSo9_cI"
      }
    },
    {
      "cell_type": "markdown",
      "source": [
        "Since the p-value approximately (0.418) is much greater than the significance level of 0.05, we fail to reject the null hypothesis. The p-value indicates that there is no significant evidence to suggest that the category of the item affects the likelihood of it being stolen. Therefore, we fail to reject the null hypothesis and conclude that there is no statistically significant relationship between the category of the item and the likelihood of it being stolen."
      ],
      "metadata": {
        "id": "t_H7-OZk-ENC"
      }
    },
    {
      "cell_type": "markdown",
      "source": [
        "#*Q5)* (3 POINTS) Next, Create a New Hypothesis\n",
        "\n",
        "\n"
      ],
      "metadata": {
        "id": "NTCV91Ph-t2_"
      }
    },
    {
      "cell_type": "markdown",
      "source": [
        "**Now create a new hypothesis test on \"whether the visibilty of an item has a correlation with the item being stolen\"**\n",
        "\n",
        "- **For the questions below assume that the alpha value is 0.05**"
      ],
      "metadata": {
        "id": "_dKrQS0t_rDG"
      }
    },
    {
      "cell_type": "markdown",
      "source": [
        "**TASK 5.1  (3 POINTS)**: Write down Null Hypothesis and Alternate Hypothesis for an Anova Test below."
      ],
      "metadata": {
        "id": "LSqKhD6AKkjF"
      }
    },
    {
      "cell_type": "markdown",
      "source": [
        "$H_{0}$: The visibility of an item does not have an effect on the likelihood of the item being stolen.\n",
        "\n",
        "$H_{A}$: The visibility of an item does have an effect on the likelihood of the item being stolen."
      ],
      "metadata": {
        "id": "Hip3s4r6AkaS"
      }
    },
    {
      "cell_type": "markdown",
      "source": [
        "#*Q6)* (7 POINTS) Apply ANOVA Test\n"
      ],
      "metadata": {
        "id": "wOdL1CDNAtbo"
      }
    },
    {
      "cell_type": "markdown",
      "source": [
        "# **Now we conduct an Anova test and find the p_val**"
      ],
      "metadata": {
        "id": "64QikUsIA1yo"
      }
    },
    {
      "cell_type": "markdown",
      "source": [
        "**TASK 6.1 (2 POINTS)**: Display the P - Value by applying ANOVA Test"
      ],
      "metadata": {
        "id": "ETcNscGkLBfG"
      }
    },
    {
      "cell_type": "code",
      "source": [
        "# ANSWER STARTING HERE\n",
        "df['Stolen'] = df['Stolen'].map({'Yes': 1, 'No': 0})\n",
        "low_visibility = df[df['Visibility'] == 'Low']['Stolen']\n",
        "medium_visibility = df[df['Visibility'] == 'Medium']['Stolen']\n",
        "high_visibility = df[df['Visibility'] == 'High']['Stolen']\n",
        "\n",
        "# Perform ANOVA\n",
        "f_statistic, p_value = f_oneway(low_visibility, medium_visibility, high_visibility)\n",
        "\n",
        "print(\"P-value:\", p_value)\n"
      ],
      "metadata": {
        "id": "feHtd8-sBPI-",
        "colab": {
          "base_uri": "https://localhost:8080/"
        },
        "outputId": "7cad90a1-0ec2-44df-ab8e-18876b5b4258"
      },
      "execution_count": null,
      "outputs": [
        {
          "output_type": "stream",
          "name": "stdout",
          "text": [
            "P-value: 0.23795050537928658\n"
          ]
        }
      ]
    },
    {
      "cell_type": "markdown",
      "source": [
        "**TASK 6.2 \\(2 POINTS)**: Create a graph using the matplotlib that you think would be good in showing the realtion between the visibility and the item being stolen below\n"
      ],
      "metadata": {
        "id": "QXlnvMzQJGfB"
      }
    },
    {
      "cell_type": "code",
      "source": [
        "# ANSWER STARTING HERE\n",
        "# a bar plot showing the relationship between visibility and the likelihood of being stolen\n",
        "visibility_counts = df.groupby('Visibility')['Stolen'].mean()\n",
        "\n",
        "# Plot the data\n",
        "visibility_counts.plot(kind='bar', color='green')\n",
        "plt.xlabel('Visibility')\n",
        "plt.ylabel('Proportion of Items Stolen')\n",
        "plt.title('Proportion of Items Stolen by Visibility')\n",
        "plt.show()"
      ],
      "metadata": {
        "id": "-_PV4-8lJgOj",
        "colab": {
          "base_uri": "https://localhost:8080/",
          "height": 513
        },
        "outputId": "92da8bca-8f32-40ab-8aa6-25d1019ee33a"
      },
      "execution_count": null,
      "outputs": [
        {
          "output_type": "display_data",
          "data": {
            "text/plain": [
              "<Figure size 640x480 with 1 Axes>"
            ],
            "image/png": "[encoded data removed]"
          },
          "metadata": {}
        }
      ]
    },
    {
      "cell_type": "markdown",
      "source": [
        "**TASK 6.3** (3 POINTS): Based on the **obtained P-Value**, determine whether to **reject** or **fail to reject** the null hypothesis. **Explain, why?**"
      ],
      "metadata": {
        "id": "L5u8z_2ABUN0"
      }
    },
    {
      "cell_type": "markdown",
      "source": [
        "A high p-value (greater than 0.05) suggests that the observed data is consistent with the null hypothesis. In this case, the p-value of approximately 0.238 indicates that there is no significant evidence to suggest that the visibility of an item affects the likelihood of it being stolen. Therefore, we fail to reject the null hypothesis and conclude that there is no statistically significant relationship between the visibility of an item and the likelihood of it being stolen"
      ],
      "metadata": {
        "id": "Zui7Lq-rLKsz"
      }
    },
    {
      "cell_type": "markdown",
      "source": [
        "#*Q7)* (2 POINTS) Post Hoc Tests"
      ],
      "metadata": {
        "id": "UGMV-etmBFhN"
      }
    },
    {
      "cell_type": "markdown",
      "source": [
        "**TASK 7.1** (2 POINTS): Answer below, why might we need a **Post Hoc Tests** in this **scenario**?"
      ],
      "metadata": {
        "id": "XC1mNMBdBHak"
      }
    },
    {
      "cell_type": "markdown",
      "source": [
        "While the ANOVA test tells us whether there is a statistically significant difference between the groups, it does not tell us which specific groups are different from each other. Post hoc tests are necessary to determine which pairs of groups (e.g., Low, Medium, High visibility) show significant differences in the likelihood of items being stolen.\n",
        "\n",
        "When multiple comparisons are made, the chance of committing a Type I error (false positive) increases. Post hoc tests apply corrections (such as the Bonferroni correction) to control for this increased risk, ensuring that the conclusions about which groups differ are statistically valid.\n",
        "\n",
        "In our case, the above shows ANOVA test shows that there is not signigicant relationship between the visbility of an item and the likelihood of it being stolen, so we do not need POST Hoc test for now because we already failed to reject the null hypothesis."
      ],
      "metadata": {
        "id": "NBN4LMWnCrtT"
      }
    },
    {
      "cell_type": "markdown",
      "source": [
        "#*Q8)* (11 POINTS) CONDUCT YOUR OWN HYPOTHESIS TEST"
      ],
      "metadata": {
        "id": "B-He18NHCuRD"
      }
    },
    {
      "cell_type": "markdown",
      "source": [
        "**Conduct your own hypothesis test using the given \"Thief Dataset\". You can choose any of the hypothesis tests given in Q1 (listed below again):**\n",
        "\n",
        "*   Chi-Squared Test\n",
        "*   Z test\n",
        "*   T test\n",
        "*   Mann-Whitney U Test\n",
        "*   Anova\n"
      ],
      "metadata": {
        "id": "QF3KN0e9Cyvw"
      }
    },
    {
      "cell_type": "markdown",
      "source": [
        "This time we do not provide you any null or alternative hypothesis. You need to write down by yourself based on the given dataset.\n",
        "- **For the questions below assume that the alpha value is 0.05**\n",
        "\n",
        "**TASK 8.1** (3 POINTS): Write down the **Null** and **Alternative Hypothesis** below."
      ],
      "metadata": {
        "id": "J_GAwmC9O0iz"
      }
    },
    {
      "cell_type": "markdown",
      "source": [
        "I chose Chi-Squared Test to determine if there is a significant association between the location of the item and whether the item was stolen.\n",
        "\n",
        "\n",
        "$H_{0}$: The location of the item does not have an effect on the likelihood of the item being stolen.\n",
        "\n",
        "$H_{A}$: The location of the item does have an effect on the likelihood of the item being stolen."
      ],
      "metadata": {
        "id": "c7PhVJsBDCxe"
      }
    },
    {
      "cell_type": "code",
      "source": [
        "df.groupby('Location')['Stolen'].value_counts()"
      ],
      "metadata": {
        "colab": {
          "base_uri": "https://localhost:8080/"
        },
        "id": "SeuCqZ_ep28z",
        "outputId": "47f25d1b-2090-4405-aa8e-1c09f361e42a"
      },
      "execution_count": null,
      "outputs": [
        {
          "output_type": "execute_result",
          "data": {
            "text/plain": [
              "Location  Stolen\n",
              "Mall A    1         49\n",
              "          0         39\n",
              "Mall B    1         36\n",
              "          0         25\n",
              "Mall C    1         41\n",
              "          0         33\n",
              "Mall D    0         39\n",
              "          1         38\n",
              "Name: count, dtype: int64"
            ]
          },
          "metadata": {},
          "execution_count": 9
        }
      ]
    },
    {
      "cell_type": "markdown",
      "source": [
        "**TASK 8.2** (2 POINTS): **Create a plot** using the matplotlib that you think would be good in showing the **relationship between your hypothesis**."
      ],
      "metadata": {
        "id": "lAcqw9KxJoWy"
      }
    },
    {
      "cell_type": "code",
      "source": [
        "# ANSWER STARTING HERE\n",
        "pd.crosstab(df['Location'], df['Stolen']).plot(kind='bar')\n",
        "plt.xlabel('Location')\n",
        "plt.ylabel('Count of Items Stolen')\n",
        "plt.title('Counts of Items Stolen by Location')\n",
        "plt.show()"
      ],
      "metadata": {
        "id": "zb_4PS5cDS99",
        "colab": {
          "base_uri": "https://localhost:8080/",
          "height": 501
        },
        "outputId": "139c0760-c805-447f-c808-d19c00f62a32"
      },
      "execution_count": null,
      "outputs": [
        {
          "output_type": "display_data",
          "data": {
            "text/plain": [
              "<Figure size 640x480 with 1 Axes>"
            ],
            "image/png": "[encoded data removed]"
          },
          "metadata": {}
        }
      ]
    },
    {
      "cell_type": "markdown",
      "source": [
        "**TASK 8.3** (3 POINTS): Find the **P-value** of the **hypothesis test** below"
      ],
      "metadata": {
        "id": "K1wQOvGhDPbF"
      }
    },
    {
      "cell_type": "code",
      "source": [
        "# ANSWER STARTING HERE\n",
        "p_value = chi2_contingency(pd.crosstab(df['Location'], df['Stolen']))[1]\n",
        "print(p_value)"
      ],
      "metadata": {
        "id": "fYyedootJwBw",
        "colab": {
          "base_uri": "https://localhost:8080/"
        },
        "outputId": "a976681c-a986-4670-b129-c9630ce2a4c1"
      },
      "execution_count": null,
      "outputs": [
        {
          "output_type": "stream",
          "name": "stdout",
          "text": [
            "0.7063189681624472\n"
          ]
        }
      ]
    },
    {
      "cell_type": "markdown",
      "source": [
        "**TASK 8.4** (3 POINTS): Based on the **obtained P-Value**, determine whether to **reject** or **fail to reject** the null hypothesis. **Explain, why?**"
      ],
      "metadata": {
        "id": "OHBq3S-MPOPd"
      }
    },
    {
      "cell_type": "markdown",
      "source": [
        "Since the p-value approximately (0.706) is much greater than the significance level of 0.05, we fail to reject the null hypothesis. The p-value indicates that there is no significant evidence to suggest that the location of the item affects the likelihood of it being stolen. Therefore, we fail to reject the null hypothesis and conclude that there is no statistically significant relationship between the location of the item and the likelihood of it being stolen."
      ],
      "metadata": {
        "id": "f1ppsAU4PXEm"
      }
    }
  ]
}